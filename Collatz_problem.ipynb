{
  "nbformat": 4,
  "nbformat_minor": 0,
  "metadata": {
    "colab": {
      "provenance": [],
      "authorship_tag": "ABX9TyO3hUoazj+RqSPNll7xaepX",
      "include_colab_link": true
    },
    "kernelspec": {
      "name": "python3",
      "display_name": "Python 3"
    },
    "language_info": {
      "name": "python"
    }
  },
  "cells": [
    {
      "cell_type": "markdown",
      "metadata": {
        "id": "view-in-github",
        "colab_type": "text"
      },
      "source": [
        "<a href=\"https://colab.research.google.com/github/kyoppy-1229/collatz_test/blob/main/Collatz_problem.ipynb\" target=\"_parent\"><img src=\"https://colab.research.google.com/assets/colab-badge.svg\" alt=\"Open In Colab\"/></a>"
      ]
    },
    {
      "cell_type": "code",
      "source": [
        "import matplotlib.pyplot as plt\n",
        "\n",
        "num = int(input())\n",
        "num_list = [num]\n",
        "\n",
        "while num != 1:\n",
        "  if num % 2 == 0:\n",
        "    num = num / 2\n",
        "    num_list.append(round(num))\n",
        "  else:\n",
        "    num = num * 3 + 1\n",
        "    num_list.append(round(num))\n",
        "\n",
        "max = max(num_list)\n",
        "length = len(num_list)\n",
        "\n",
        "print(num_list)\n",
        "print(length)\n",
        "print(max)\n",
        "\n",
        "\n",
        "\n",
        "plt.figure(figsize=[20,10])\n",
        "plt.plot(num_list, marker='o')\n",
        "plt.show()"
      ],
      "metadata": {
        "id": "4-laztO534Ls"
      },
      "execution_count": null,
      "outputs": []
    }
  ]
}